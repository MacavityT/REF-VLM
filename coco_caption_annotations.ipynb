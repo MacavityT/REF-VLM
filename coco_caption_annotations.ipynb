{
 "cells": [
  {
   "cell_type": "code",
   "execution_count": 1,
   "metadata": {},
   "outputs": [],
   "source": [
    "import json\n",
    "import jsonlines"
   ]
  },
  {
   "cell_type": "code",
   "execution_count": 2,
   "metadata": {},
   "outputs": [],
   "source": [
    "with open(\"/data/Aaronzhu/DatasetStage1/MSCOCO/2017/annotations/captions_val2017.json\",\"r\") as f:\n",
    "    json_labels = json.load(f)\n"
   ]
  },
  {
   "cell_type": "code",
   "execution_count": 23,
   "metadata": {},
   "outputs": [
    {
     "name": "stdout",
     "output_type": "stream",
     "text": [
      "000000179765\n",
      "A black Honda motorcycle parked in front of a garage.\n",
      "{'image_id': 179765, 'id': 38, 'caption': 'A black Honda motorcycle parked in front of a garage.'}\n"
     ]
    }
   ],
   "source": [
    "from PIL import Image\n",
    "import os\n",
    "\n",
    "for single_label in json_labels['annotations']:\n",
    "    caption = single_label['caption']\n",
    "    image_id = str(single_label['image_id']).zfill(12)\n",
    "    print(image_id)\n",
    "    print(caption)\n",
    "    print(single_label)\n",
    "    img = Image.open(os.path.join(\"/data/Aaronzhu/DatasetStage1/MSCOCO/2017/val2017\",image_id+\".jpg\"))\n",
    "    break"
   ]
  },
  {
   "cell_type": "code",
   "execution_count": 25,
   "metadata": {},
   "outputs": [],
   "source": [
    "# save new annotations to jsonl files\n",
    "\n",
    "with open(\"/data/Aaronzhu/DatasetStage1/MSCOCO/2017/annotations/captions_train2017.json\",\"r\") as f:\n",
    "    json_labels = json.load(f)\n",
    "    f.close()\n",
    "\n",
    "\n",
    "for single_label in json_labels['annotations']:\n",
    "    caption = single_label['caption']\n",
    "    image_id = str(single_label['image_id']).zfill(12)\n",
    "    img = Image.open(os.path.join(\"/data/Aaronzhu/DatasetStage1/MSCOCO/2017/train2017\",image_id+\".jpg\"))\n",
    "    anno_dict = {\"img_path\":image_id+\".jpg\",\"caption\":caption}\n",
    "    with jsonlines.open(\"/data/Aaronzhu/DatasetStage1/Shikra/CAP_coco2017_train.jsonl\",\"a\") as f2:\n",
    "        f2.write(anno_dict)\n"
   ]
  },
  {
   "cell_type": "code",
   "execution_count": null,
   "metadata": {},
   "outputs": [],
   "source": []
  }
 ],
 "metadata": {
  "kernelspec": {
   "display_name": "next_gpt",
   "language": "python",
   "name": "python3"
  },
  "language_info": {
   "codemirror_mode": {
    "name": "ipython",
    "version": 3
   },
   "file_extension": ".py",
   "mimetype": "text/x-python",
   "name": "python",
   "nbconvert_exporter": "python",
   "pygments_lexer": "ipython3",
   "version": "3.10.0"
  }
 },
 "nbformat": 4,
 "nbformat_minor": 2
}
